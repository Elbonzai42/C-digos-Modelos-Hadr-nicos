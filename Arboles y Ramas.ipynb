{
 "cells": [
  {
   "cell_type": "code",
   "execution_count": 6,
   "id": "bc64bf1c-43f4-401b-87dc-ef4cf3df7456",
   "metadata": {},
   "outputs": [
    {
     "name": "stdout",
     "output_type": "stream",
     "text": [
      "\n",
      "Explorando archivo: COMBINED_Sim_epos-LHC_co.root\n",
      "  Árbol: general;5\n",
      "    Ramas: ['Run', 'Ev', 'EDepositN', 'EDepositS', 'EDeposit', 'MDepositN', 'MDepositS', 'MDeposit', 'ArrivalN', 'ArrivalS', 'Arrival', 'GDepositN', 'GDepositS', 'GDeposit', 'GArrivalN', 'GArrivalS', 'GArrival']\n",
      "  Árbol: general;4\n",
      "    Ramas: ['Run', 'Ev', 'EDepositN', 'EDepositS', 'EDeposit', 'MDepositN', 'MDepositS', 'MDeposit', 'ArrivalN', 'ArrivalS', 'Arrival', 'GDepositN', 'GDepositS', 'GDeposit', 'GArrivalN', 'GArrivalS', 'GArrival']\n",
      "  Árbol: general;3\n",
      "    Ramas: ['Run', 'Ev', 'EDepositN', 'EDepositS', 'EDeposit', 'MDepositN', 'MDepositS', 'MDeposit', 'ArrivalN', 'ArrivalS', 'Arrival', 'GDepositN', 'GDepositS', 'GDeposit', 'GArrivalN', 'GArrivalS', 'GArrival']\n",
      "  Árbol: comb;2\n",
      "    Ramas: ['E', 'Xc', 'Yc', 'Ze', 'Az', 'Age', 'Ne', 'Nmu', 'Ckas', 'Cgra']\n",
      "  Árbol: comb;1\n",
      "    Ramas: ['E', 'Xc', 'Yc', 'Ze', 'Az', 'Age', 'Ne', 'Nmu', 'Ckas', 'Cgra']\n",
      "  Árbol: trmc;2\n",
      "    Ramas: ['TrEP', 'TrPP', 'TrXc', 'TrYc', 'TrZe', 'TrAz', 'TrNe', 'TrNg', 'TrNm', 'TrNh']\n",
      "  Árbol: trmc;1\n",
      "    Ramas: ['TrEP', 'TrPP', 'TrXc', 'TrYc', 'TrZe', 'TrAz', 'TrNe', 'TrNg', 'TrNm', 'TrNh']\n",
      "  Árbol: row_map;2\n",
      "    Ramas: ['comb', 'general', 'trmc']\n",
      "  Árbol: row_map;1\n",
      "    Ramas: ['comb', 'general', 'trmc']\n"
     ]
    }
   ],
   "source": [
    "import uproot\n",
    "import os\n",
    "\n",
    "# Directorio donde están los archivos ROOT\n",
    "directory = \"C:/Users/MSI/extraidos\"\n",
    "\n",
    "# Función para explorar los árboles y ramas de un archivo ROOT\n",
    "def explore_root_file(filepath):\n",
    "    print(f\"\\nExplorando archivo: {os.path.basename(filepath)}\")\n",
    "    try:\n",
    "        with uproot.open(filepath) as file:\n",
    "            for tree_name in file.keys():\n",
    "                print(f\"  Árbol: {tree_name}\")\n",
    "                try:\n",
    "                    tree = file[tree_name]\n",
    "                    print(f\"    Ramas: {tree.keys()}\")\n",
    "                except Exception as e:\n",
    "                    print(f\"    No se pudieron leer las ramas de {tree_name}. Error: {e}\")\n",
    "    except Exception as e:\n",
    "        print(f\"No se pudo abrir el archivo {filepath}. Error: {e}\")\n",
    "\n",
    "# Obtener la lista de archivos en el directorio\n",
    "root_files = [f for f in os.listdir(directory) if f.endswith(\".root\")]\n",
    "\n",
    "# Verificar si hay archivos y explorar el primero\n",
    "if root_files:\n",
    "    first_file_path = os.path.join(directory, root_files[0])\n",
    "    explore_root_file(first_file_path)\n",
    "else:\n",
    "    print(\"No se encontraron archivos .root en el directorio.\")\n"
   ]
  },
  {
   "cell_type": "code",
   "execution_count": null,
   "id": "21c3279c-0218-4b9d-a45b-f7d58f8d4573",
   "metadata": {},
   "outputs": [],
   "source": []
  }
 ],
 "metadata": {
  "kernelspec": {
   "display_name": "Python 3 (ipykernel)",
   "language": "python",
   "name": "python3"
  },
  "language_info": {
   "codemirror_mode": {
    "name": "ipython",
    "version": 3
   },
   "file_extension": ".py",
   "mimetype": "text/x-python",
   "name": "python",
   "nbconvert_exporter": "python",
   "pygments_lexer": "ipython3",
   "version": "3.12.7"
  }
 },
 "nbformat": 4,
 "nbformat_minor": 5
}
